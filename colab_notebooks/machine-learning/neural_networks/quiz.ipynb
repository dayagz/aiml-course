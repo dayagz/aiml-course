{
 "cells": [
  {
   "cell_type": "code",
   "execution_count": 92,
   "metadata": {
    "colab": {
     "base_uri": "https://localhost:8080/"
    },
    "id": "VBziscK6jg1S",
    "outputId": "9aac4758-b140-4ace-8d6c-17b6d1ca2bd0"
   },
   "outputs": [
    {
     "name": "stdout",
     "output_type": "stream",
     "text": [
      "\u001b[31mERROR: pip's dependency resolver does not currently take into account all the packages that are installed. This behaviour is the source of the following dependency conflicts.\n",
      "imbalanced-learn 0.13.0 requires numpy<3,>=1.24.3, but you have numpy 1.24.1 which is incompatible.\n",
      "imbalanced-learn 0.13.0 requires scikit-learn<2,>=1.3.2, but you have scikit-learn 1.2.2 which is incompatible.\n",
      "mlxtend 0.23.3 requires scikit-learn>=1.3.1, but you have scikit-learn 1.2.2 which is incompatible.\u001b[0m\u001b[31m\n",
      "\u001b[0m"
     ]
    }
   ],
   "source": [
    "#Installing the libraries with the specified version.\n",
    "!pip install tensorflow==2.15.0 scikit-learn==1.2.2 seaborn==0.13.1 matplotlib==3.7.1 numpy==1.24.1 pandas==1.5.3 -q --user --no-warn-script-location"
   ]
  },
  {
   "cell_type": "markdown",
   "metadata": {
    "id": "XDm41YNRbs6e"
   },
   "source": [
    "Note: After running the above cell, kindly restart the notebook kernel and run all cells sequentially from the start again."
   ]
  },
  {
   "cell_type": "code",
   "execution_count": 43,
   "metadata": {
    "id": "5Eb6RdZy7qf9"
   },
   "outputs": [],
   "source": [
    "# Libraries to help with reading and manipulating data\n",
    "import numpy as np\n",
    "import pandas as pd\n",
    "import time\n",
    "\n",
    "# Libraries to help with data visualization\n",
    "import matplotlib.pyplot as plt\n",
    "import seaborn as sns\n",
    "sns.set()\n",
    "\n",
    "# Removes the limit for the number of displayed columns\n",
    "pd.set_option(\"display.max_columns\", None)\n",
    "# Sets the limit for the number of displayed rows\n",
    "pd.set_option(\"display.max_rows\", 200)\n",
    "\n",
    "# to split the data into train and test\n",
    "from sklearn.model_selection import train_test_split\n",
    "from sklearn.preprocessing import StandardScaler\n",
    "from sklearn.metrics import mean_absolute_error, mean_squared_error, r2_score,f1_score,precision_score\n",
    "\n",
    "import tensorflow as tf #An end-to-end open source machine learning platform\n",
    "from tensorflow import keras  # High-level neural networks API for deep learning.\n",
    "from keras import backend   # Abstraction layer for neural network backend engines.\n",
    "from keras.models import Sequential  # Model for building NN sequentially.\n",
    "from keras.layers import Dense,Dropout,BatchNormalization   # for creating fully connected neural network layers.\n",
    "# to suppress warnings\n",
    "import warnings\n",
    "warnings.filterwarnings(\"ignore\")"
   ]
  },
  {
   "cell_type": "code",
   "execution_count": 7,
   "metadata": {
    "id": "eauLFw-P65x6"
   },
   "outputs": [],
   "source": [
    "# Set the seed using keras.utils.set_random_seed. This will set:\n",
    "# 1) `numpy` seed\n",
    "# 2) backend random seed\n",
    "# 3) `python` random seed\n",
    "keras.utils.set_random_seed(812)\n",
    "\n",
    "# If using TensorFlow, this will make GPU ops as deterministic as possible,\n",
    "# but it will affect the overall performance, so be mindful of that.\n",
    "tf.config.experimental.enable_op_determinism()"
   ]
  },
  {
   "cell_type": "markdown",
   "metadata": {
    "id": "xxhpZv9y-qTw"
   },
   "source": [
    "## Loading the dataset"
   ]
  },
  {
   "cell_type": "code",
   "execution_count": 8,
   "metadata": {
    "id": "NVyQWHugthFQ"
   },
   "outputs": [],
   "source": [
    "# uncomment and run the following lines in case Google Colab is being used\n",
    "# from google.colab import drive\n",
    "# drive.mount('/content/drive')"
   ]
  },
  {
   "cell_type": "code",
   "execution_count": 10,
   "metadata": {
    "id": "TV-aehaf7qf_"
   },
   "outputs": [],
   "source": [
    "# loading the dataset\n",
    "data = pd.read_csv(\"new_preprocessed_data.csv\")"
   ]
  },
  {
   "cell_type": "markdown",
   "metadata": {
    "id": "_ruS1OQwB_fX"
   },
   "source": [
    "## Data Overview"
   ]
  },
  {
   "cell_type": "markdown",
   "metadata": {
    "id": "qlzqMR1K-qTz"
   },
   "source": [
    "### Displaying the first few rows of the dataset"
   ]
  },
  {
   "cell_type": "code",
   "execution_count": 11,
   "metadata": {
    "colab": {
     "base_uri": "https://localhost:8080/",
     "height": 0
    },
    "id": "aNvXgPEhWaLv",
    "outputId": "07e19ace-bd7c-49b8-9fcc-47c6759a0e31"
   },
   "outputs": [
    {
     "data": {
      "text/html": [
       "<div>\n",
       "<style scoped>\n",
       "    .dataframe tbody tr th:only-of-type {\n",
       "        vertical-align: middle;\n",
       "    }\n",
       "\n",
       "    .dataframe tbody tr th {\n",
       "        vertical-align: top;\n",
       "    }\n",
       "\n",
       "    .dataframe thead th {\n",
       "        text-align: right;\n",
       "    }\n",
       "</style>\n",
       "<table border=\"1\" class=\"dataframe\">\n",
       "  <thead>\n",
       "    <tr style=\"text-align: right;\">\n",
       "      <th></th>\n",
       "      <th>loan_status</th>\n",
       "      <th>Principal</th>\n",
       "      <th>age</th>\n",
       "      <th>education_Bechalor</th>\n",
       "      <th>education_High School or Below</th>\n",
       "      <th>education_Master or Above</th>\n",
       "      <th>education_college</th>\n",
       "      <th>Gender_female</th>\n",
       "      <th>Gender_male</th>\n",
       "      <th>terms_7</th>\n",
       "      <th>terms_15</th>\n",
       "      <th>terms_30</th>\n",
       "    </tr>\n",
       "  </thead>\n",
       "  <tbody>\n",
       "    <tr>\n",
       "      <th>0</th>\n",
       "      <td>0</td>\n",
       "      <td>1000</td>\n",
       "      <td>45</td>\n",
       "      <td>0</td>\n",
       "      <td>1</td>\n",
       "      <td>0</td>\n",
       "      <td>0</td>\n",
       "      <td>0</td>\n",
       "      <td>1</td>\n",
       "      <td>0</td>\n",
       "      <td>0</td>\n",
       "      <td>1</td>\n",
       "    </tr>\n",
       "    <tr>\n",
       "      <th>1</th>\n",
       "      <td>0</td>\n",
       "      <td>1000</td>\n",
       "      <td>50</td>\n",
       "      <td>1</td>\n",
       "      <td>0</td>\n",
       "      <td>0</td>\n",
       "      <td>0</td>\n",
       "      <td>1</td>\n",
       "      <td>0</td>\n",
       "      <td>0</td>\n",
       "      <td>0</td>\n",
       "      <td>1</td>\n",
       "    </tr>\n",
       "    <tr>\n",
       "      <th>2</th>\n",
       "      <td>0</td>\n",
       "      <td>1000</td>\n",
       "      <td>33</td>\n",
       "      <td>1</td>\n",
       "      <td>0</td>\n",
       "      <td>0</td>\n",
       "      <td>0</td>\n",
       "      <td>1</td>\n",
       "      <td>0</td>\n",
       "      <td>0</td>\n",
       "      <td>0</td>\n",
       "      <td>1</td>\n",
       "    </tr>\n",
       "    <tr>\n",
       "      <th>3</th>\n",
       "      <td>0</td>\n",
       "      <td>1000</td>\n",
       "      <td>27</td>\n",
       "      <td>0</td>\n",
       "      <td>0</td>\n",
       "      <td>0</td>\n",
       "      <td>1</td>\n",
       "      <td>0</td>\n",
       "      <td>1</td>\n",
       "      <td>0</td>\n",
       "      <td>1</td>\n",
       "      <td>0</td>\n",
       "    </tr>\n",
       "    <tr>\n",
       "      <th>4</th>\n",
       "      <td>0</td>\n",
       "      <td>1000</td>\n",
       "      <td>28</td>\n",
       "      <td>0</td>\n",
       "      <td>0</td>\n",
       "      <td>0</td>\n",
       "      <td>1</td>\n",
       "      <td>1</td>\n",
       "      <td>0</td>\n",
       "      <td>0</td>\n",
       "      <td>0</td>\n",
       "      <td>1</td>\n",
       "    </tr>\n",
       "  </tbody>\n",
       "</table>\n",
       "</div>"
      ],
      "text/plain": [
       "   loan_status  Principal  age  education_Bechalor  \\\n",
       "0            0       1000   45                   0   \n",
       "1            0       1000   50                   1   \n",
       "2            0       1000   33                   1   \n",
       "3            0       1000   27                   0   \n",
       "4            0       1000   28                   0   \n",
       "\n",
       "   education_High School or Below  education_Master or Above  \\\n",
       "0                               1                          0   \n",
       "1                               0                          0   \n",
       "2                               0                          0   \n",
       "3                               0                          0   \n",
       "4                               0                          0   \n",
       "\n",
       "   education_college  Gender_female  Gender_male  terms_7  terms_15  terms_30  \n",
       "0                  0              0            1        0         0         1  \n",
       "1                  0              1            0        0         0         1  \n",
       "2                  0              1            0        0         0         1  \n",
       "3                  1              0            1        0         1         0  \n",
       "4                  1              1            0        0         0         1  "
      ]
     },
     "execution_count": 11,
     "metadata": {},
     "output_type": "execute_result"
    }
   ],
   "source": [
    "data.head()"
   ]
  },
  {
   "cell_type": "code",
   "execution_count": 17,
   "metadata": {},
   "outputs": [
    {
     "data": {
      "text/plain": [
       "array([0, 2, 1])"
      ]
     },
     "execution_count": 17,
     "metadata": {},
     "output_type": "execute_result"
    }
   ],
   "source": [
    "data['loan_status'].unique()"
   ]
  },
  {
   "cell_type": "code",
   "execution_count": 13,
   "metadata": {},
   "outputs": [
    {
     "data": {
      "image/png": "[encoded data removed]",
      "text/plain": [
       "<Figure size 640x480 with 1 Axes>"
      ]
     },
     "metadata": {},
     "output_type": "display_data"
    }
   ],
   "source": [
    "sns.histplot(data=data, x='age');"
   ]
  },
  {
   "cell_type": "code",
   "execution_count": 14,
   "metadata": {},
   "outputs": [],
   "source": [
    "X = data.drop([\"loan_status\"], axis=1)\n",
    "y = data[\"loan_status\"]"
   ]
  },
  {
   "cell_type": "code",
   "execution_count": 15,
   "metadata": {},
   "outputs": [],
   "source": [
    "x_train, x_test, y_train, y_test = train_test_split(X, y, test_size=0.2,random_state=1)"
   ]
  },
  {
   "cell_type": "code",
   "execution_count": 16,
   "metadata": {},
   "outputs": [
    {
     "data": {
      "text/plain": [
       "(400,)"
      ]
     },
     "execution_count": 16,
     "metadata": {},
     "output_type": "execute_result"
    }
   ],
   "source": [
    "y_train.shape"
   ]
  },
  {
   "cell_type": "code",
   "execution_count": 18,
   "metadata": {},
   "outputs": [],
   "source": [
    "y_train = keras.utils.to_categorical(y_train, 3)"
   ]
  },
  {
   "cell_type": "code",
   "execution_count": 19,
   "metadata": {},
   "outputs": [
    {
     "data": {
      "text/plain": [
       "(400, 3)"
      ]
     },
     "execution_count": 19,
     "metadata": {},
     "output_type": "execute_result"
    }
   ],
   "source": [
    "y_train.shape"
   ]
  },
  {
   "cell_type": "code",
   "execution_count": 20,
   "metadata": {},
   "outputs": [
    {
     "data": {
      "text/plain": [
       "array([[1., 0., 0.],\n",
       "       [0., 1., 0.],\n",
       "       [0., 1., 0.],\n",
       "       [1., 0., 0.],\n",
       "       [0., 0., 1.]], dtype=float32)"
      ]
     },
     "execution_count": 20,
     "metadata": {},
     "output_type": "execute_result"
    }
   ],
   "source": [
    "y_train[:5]"
   ]
  },
  {
   "cell_type": "code",
   "execution_count": 21,
   "metadata": {},
   "outputs": [],
   "source": [
    "x_train, x_val, y_train, y_val = train_test_split(x_train, y_train, test_size=0.2, random_state=1)"
   ]
  },
  {
   "cell_type": "code",
   "execution_count": 22,
   "metadata": {},
   "outputs": [
    {
     "data": {
      "text/plain": [
       "(320, 11)"
      ]
     },
     "execution_count": 22,
     "metadata": {},
     "output_type": "execute_result"
    }
   ],
   "source": [
    "x_train.shape"
   ]
  },
  {
   "cell_type": "code",
   "execution_count": 23,
   "metadata": {},
   "outputs": [],
   "source": [
    "tf.keras.backend.clear_session()"
   ]
  },
  {
   "cell_type": "code",
   "execution_count": 26,
   "metadata": {},
   "outputs": [],
   "source": [
    "# initializing the neural network\n",
    "model = Sequential()\n",
    "dropout_rate=0.2\n",
    "model.add(Dense(64,activation='relu',input_dim = x_train.shape[1]))\n",
    "model.add(Dropout(dropout_rate))\n",
    "model.add(Dense(32,activation=\"relu\"))\n",
    "model.add(Dense(3, activation = 'softmax'))"
   ]
  },
  {
   "cell_type": "code",
   "execution_count": 27,
   "metadata": {},
   "outputs": [
    {
     "name": "stderr",
     "output_type": "stream",
     "text": [
      "WARNING:absl:At this time, the v2.11+ optimizer `tf.keras.optimizers.Adam` runs slowly on M1/M2 Macs, please use the legacy Keras optimizer instead, located at `tf.keras.optimizers.legacy.Adam`.\n"
     ]
    }
   ],
   "source": [
    "batch_size = x_train.shape[0]\n",
    "epochs = 20\n",
    "adam_optimizer = keras.optimizers.Adam(learning_rate=1e-3)\n",
    "model.compile(loss=\"categorical_crossentropy\", optimizer=adam_optimizer, metrics=[\"accuracy\"])"
   ]
  },
  {
   "cell_type": "code",
   "execution_count": 28,
   "metadata": {},
   "outputs": [
    {
     "name": "stdout",
     "output_type": "stream",
     "text": [
      "Epoch 1/20\n",
      "1/1 [==============================] - 0s 283ms/step - loss: 39.5034 - accuracy: 0.4625 - val_loss: 26.6332 - val_accuracy: 0.6375\n",
      "Epoch 2/20\n",
      "1/1 [==============================] - 0s 10ms/step - loss: 37.3323 - accuracy: 0.4437 - val_loss: 25.0140 - val_accuracy: 0.6375\n",
      "Epoch 3/20\n",
      "1/1 [==============================] - 0s 11ms/step - loss: 35.5375 - accuracy: 0.4750 - val_loss: 22.8931 - val_accuracy: 0.6375\n",
      "Epoch 4/20\n",
      "1/1 [==============================] - 0s 12ms/step - loss: 32.6844 - accuracy: 0.4375 - val_loss: 21.2509 - val_accuracy: 0.6375\n",
      "Epoch 5/20\n",
      "1/1 [==============================] - 0s 11ms/step - loss: 27.8801 - accuracy: 0.5031 - val_loss: 19.0234 - val_accuracy: 0.6375\n",
      "Epoch 6/20\n",
      "1/1 [==============================] - 0s 12ms/step - loss: 31.2963 - accuracy: 0.4031 - val_loss: 16.3907 - val_accuracy: 0.6375\n",
      "Epoch 7/20\n",
      "1/1 [==============================] - 0s 12ms/step - loss: 31.2130 - accuracy: 0.4219 - val_loss: 14.2001 - val_accuracy: 0.6375\n",
      "Epoch 8/20\n",
      "1/1 [==============================] - 0s 12ms/step - loss: 31.2002 - accuracy: 0.3875 - val_loss: 12.7248 - val_accuracy: 0.6375\n",
      "Epoch 9/20\n",
      "1/1 [==============================] - 0s 12ms/step - loss: 26.0278 - accuracy: 0.4500 - val_loss: 11.8454 - val_accuracy: 0.6375\n",
      "Epoch 10/20\n",
      "1/1 [==============================] - 0s 12ms/step - loss: 29.6730 - accuracy: 0.4062 - val_loss: 11.8067 - val_accuracy: 0.6375\n",
      "Epoch 11/20\n",
      "1/1 [==============================] - 0s 12ms/step - loss: 28.9343 - accuracy: 0.3969 - val_loss: 12.0505 - val_accuracy: 0.6375\n",
      "Epoch 12/20\n",
      "1/1 [==============================] - 0s 12ms/step - loss: 28.0310 - accuracy: 0.4219 - val_loss: 12.3971 - val_accuracy: 0.6375\n",
      "Epoch 13/20\n",
      "1/1 [==============================] - 0s 11ms/step - loss: 26.1845 - accuracy: 0.4250 - val_loss: 12.5876 - val_accuracy: 0.6375\n",
      "Epoch 14/20\n",
      "1/1 [==============================] - 0s 12ms/step - loss: 24.9859 - accuracy: 0.4344 - val_loss: 12.5326 - val_accuracy: 0.6375\n",
      "Epoch 15/20\n",
      "1/1 [==============================] - 0s 12ms/step - loss: 22.0723 - accuracy: 0.4062 - val_loss: 12.4939 - val_accuracy: 0.6375\n",
      "Epoch 16/20\n",
      "1/1 [==============================] - 0s 12ms/step - loss: 25.0949 - accuracy: 0.4688 - val_loss: 12.1216 - val_accuracy: 0.6375\n",
      "Epoch 17/20\n",
      "1/1 [==============================] - 0s 12ms/step - loss: 23.3235 - accuracy: 0.4250 - val_loss: 11.7513 - val_accuracy: 0.6375\n",
      "Epoch 18/20\n",
      "1/1 [==============================] - 0s 12ms/step - loss: 22.9869 - accuracy: 0.4750 - val_loss: 11.2211 - val_accuracy: 0.6375\n",
      "Epoch 19/20\n",
      "1/1 [==============================] - 0s 12ms/step - loss: 22.6123 - accuracy: 0.4969 - val_loss: 10.4638 - val_accuracy: 0.6375\n",
      "Epoch 20/20\n",
      "1/1 [==============================] - 0s 12ms/step - loss: 20.8791 - accuracy: 0.4906 - val_loss: 9.5252 - val_accuracy: 0.6375\n"
     ]
    }
   ],
   "source": [
    "start = time.time()\n",
    "history = model.fit(x_train, y_train, validation_data=(x_val,y_val) , batch_size=batch_size, epochs=epochs)\n",
    "end = time.time()"
   ]
  },
  {
   "cell_type": "code",
   "execution_count": 29,
   "metadata": {},
   "outputs": [
    {
     "name": "stdout",
     "output_type": "stream",
     "text": [
      "4/4 [==============================] - 0s 847us/step\n",
      "4/4 [==============================] - 0s 637us/step\n"
     ]
    },
    {
     "data": {
      "text/plain": [
       "0.6754966887417219"
      ]
     },
     "execution_count": 29,
     "metadata": {},
     "output_type": "execute_result"
    }
   ],
   "source": [
    "# predict probabilities for test set\n",
    "y_test_cat = keras.utils.to_categorical(y_test, 3)\n",
    "y_pred = model.predict(x_test)\n",
    "# predict crisp classes for test set\n",
    "#yhat_classes = model.predict_classes(x_test)\n",
    "y_pred_probabilities = model.predict(x_test)\n",
    "y_pred = np.argmax(y_pred_probabilities, axis=1)\n",
    "\n",
    "f1_scores = f1_score(y_test, y_pred, average=None)  # Get F1 for ALL classes\n",
    "f1_scores[0] \n",
    "\n",
    "\n",
    "\n",
    "\n"
   ]
  },
  {
   "cell_type": "code",
   "execution_count": 36,
   "metadata": {},
   "outputs": [],
   "source": [
    "tf.keras.backend.clear_session()"
   ]
  },
  {
   "cell_type": "code",
   "execution_count": 37,
   "metadata": {},
   "outputs": [],
   "source": [
    "# initializing the neural network\n",
    "model = Sequential()\n",
    "\n",
    "model.add(Dense(128,activation='relu',input_dim = x_train.shape[1]))\n",
    "model.add(Dropout(0.3))\n",
    "model.add(Dense(64,activation=\"relu\"))\n",
    "model.add(BatchNormalization())\n",
    "model.add(Dense(64,activation=\"relu\"))\n",
    "model.add(Dense(32,activation=\"relu\"))\n",
    "model.add(Dense(3, activation = 'softmax'))"
   ]
  },
  {
   "cell_type": "code",
   "execution_count": 38,
   "metadata": {},
   "outputs": [
    {
     "name": "stderr",
     "output_type": "stream",
     "text": [
      "WARNING:absl:At this time, the v2.11+ optimizer `tf.keras.optimizers.Adam` runs slowly on M1/M2 Macs, please use the legacy Keras optimizer instead, located at `tf.keras.optimizers.legacy.Adam`.\n"
     ]
    }
   ],
   "source": [
    "batch_size = 128\n",
    "epochs = 100\n",
    "adam_optimizer = keras.optimizers.Adam(learning_rate=1e-3)\n",
    "model.compile(loss=\"categorical_crossentropy\", optimizer=adam_optimizer, metrics=[\"accuracy\"])"
   ]
  },
  {
   "cell_type": "code",
   "execution_count": 39,
   "metadata": {},
   "outputs": [
    {
     "name": "stdout",
     "output_type": "stream",
     "text": [
      "Epoch 1/100\n",
      "3/3 [==============================] - 0s 35ms/step - loss: 1.7290 - accuracy: 0.1750 - val_loss: 1.2477 - val_accuracy: 0.1875\n",
      "Epoch 2/100\n",
      "3/3 [==============================] - 0s 5ms/step - loss: 1.4640 - accuracy: 0.2156 - val_loss: 1.0360 - val_accuracy: 0.6500\n",
      "Epoch 3/100\n",
      "3/3 [==============================] - 0s 6ms/step - loss: 1.3214 - accuracy: 0.2219 - val_loss: 0.9851 - val_accuracy: 0.6375\n",
      "Epoch 4/100\n",
      "3/3 [==============================] - 0s 6ms/step - loss: 1.2014 - accuracy: 0.2875 - val_loss: 0.9657 - val_accuracy: 0.6375\n",
      "Epoch 5/100\n",
      "3/3 [==============================] - 0s 7ms/step - loss: 1.1237 - accuracy: 0.3656 - val_loss: 0.9690 - val_accuracy: 0.6375\n",
      "Epoch 6/100\n",
      "3/3 [==============================] - 0s 7ms/step - loss: 1.1011 - accuracy: 0.4313 - val_loss: 0.9820 - val_accuracy: 0.6375\n",
      "Epoch 7/100\n",
      "3/3 [==============================] - 0s 6ms/step - loss: 1.0203 - accuracy: 0.5437 - val_loss: 0.9899 - val_accuracy: 0.6375\n",
      "Epoch 8/100\n",
      "3/3 [==============================] - 0s 6ms/step - loss: 0.9975 - accuracy: 0.5688 - val_loss: 0.9924 - val_accuracy: 0.6375\n",
      "Epoch 9/100\n",
      "3/3 [==============================] - 0s 6ms/step - loss: 0.9540 - accuracy: 0.5813 - val_loss: 0.9904 - val_accuracy: 0.6375\n",
      "Epoch 10/100\n",
      "3/3 [==============================] - 0s 6ms/step - loss: 0.9600 - accuracy: 0.6250 - val_loss: 0.9913 - val_accuracy: 0.6375\n",
      "Epoch 11/100\n",
      "3/3 [==============================] - 0s 6ms/step - loss: 0.9656 - accuracy: 0.5969 - val_loss: 0.9889 - val_accuracy: 0.6375\n",
      "Epoch 12/100\n",
      "3/3 [==============================] - 0s 6ms/step - loss: 0.9383 - accuracy: 0.6125 - val_loss: 0.9841 - val_accuracy: 0.6375\n",
      "Epoch 13/100\n",
      "3/3 [==============================] - 0s 6ms/step - loss: 0.9602 - accuracy: 0.6250 - val_loss: 0.9730 - val_accuracy: 0.6375\n",
      "Epoch 14/100\n",
      "3/3 [==============================] - 0s 7ms/step - loss: 0.9765 - accuracy: 0.6125 - val_loss: 0.9647 - val_accuracy: 0.6375\n",
      "Epoch 15/100\n",
      "3/3 [==============================] - 0s 7ms/step - loss: 0.9741 - accuracy: 0.6156 - val_loss: 0.9547 - val_accuracy: 0.6375\n",
      "Epoch 16/100\n",
      "3/3 [==============================] - 0s 7ms/step - loss: 0.9565 - accuracy: 0.6156 - val_loss: 0.9441 - val_accuracy: 0.6375\n",
      "Epoch 17/100\n",
      "3/3 [==============================] - 0s 6ms/step - loss: 0.9516 - accuracy: 0.6187 - val_loss: 0.9367 - val_accuracy: 0.6375\n",
      "Epoch 18/100\n",
      "3/3 [==============================] - 0s 7ms/step - loss: 0.9879 - accuracy: 0.6094 - val_loss: 0.9320 - val_accuracy: 0.6375\n",
      "Epoch 19/100\n",
      "3/3 [==============================] - 0s 6ms/step - loss: 0.9533 - accuracy: 0.6125 - val_loss: 0.9283 - val_accuracy: 0.6375\n",
      "Epoch 20/100\n",
      "3/3 [==============================] - 0s 7ms/step - loss: 0.9481 - accuracy: 0.6187 - val_loss: 0.9262 - val_accuracy: 0.6375\n",
      "Epoch 21/100\n",
      "3/3 [==============================] - 0s 7ms/step - loss: 0.9654 - accuracy: 0.6187 - val_loss: 0.9248 - val_accuracy: 0.6375\n",
      "Epoch 22/100\n",
      "3/3 [==============================] - 0s 7ms/step - loss: 0.9561 - accuracy: 0.6156 - val_loss: 0.9235 - val_accuracy: 0.6375\n",
      "Epoch 23/100\n",
      "3/3 [==============================] - 0s 7ms/step - loss: 0.9285 - accuracy: 0.6219 - val_loss: 0.9235 - val_accuracy: 0.6375\n",
      "Epoch 24/100\n",
      "3/3 [==============================] - 0s 7ms/step - loss: 0.9527 - accuracy: 0.6156 - val_loss: 0.9240 - val_accuracy: 0.6375\n",
      "Epoch 25/100\n",
      "3/3 [==============================] - 0s 7ms/step - loss: 0.9430 - accuracy: 0.6219 - val_loss: 0.9226 - val_accuracy: 0.6375\n",
      "Epoch 26/100\n",
      "3/3 [==============================] - 0s 7ms/step - loss: 0.9367 - accuracy: 0.6250 - val_loss: 0.9226 - val_accuracy: 0.6375\n",
      "Epoch 27/100\n",
      "3/3 [==============================] - 0s 7ms/step - loss: 0.9676 - accuracy: 0.6125 - val_loss: 0.9224 - val_accuracy: 0.6375\n",
      "Epoch 28/100\n",
      "3/3 [==============================] - 0s 7ms/step - loss: 0.9508 - accuracy: 0.6250 - val_loss: 0.9222 - val_accuracy: 0.6375\n",
      "Epoch 29/100\n",
      "3/3 [==============================] - 0s 7ms/step - loss: 0.9384 - accuracy: 0.6187 - val_loss: 0.9227 - val_accuracy: 0.6375\n",
      "Epoch 30/100\n",
      "3/3 [==============================] - 0s 7ms/step - loss: 0.9525 - accuracy: 0.6187 - val_loss: 0.9223 - val_accuracy: 0.6375\n",
      "Epoch 31/100\n",
      "3/3 [==============================] - 0s 7ms/step - loss: 0.9405 - accuracy: 0.6219 - val_loss: 0.9219 - val_accuracy: 0.6375\n",
      "Epoch 32/100\n",
      "3/3 [==============================] - 0s 8ms/step - loss: 0.9242 - accuracy: 0.6219 - val_loss: 0.9214 - val_accuracy: 0.6375\n",
      "Epoch 33/100\n",
      "3/3 [==============================] - 0s 7ms/step - loss: 0.9460 - accuracy: 0.6156 - val_loss: 0.9206 - val_accuracy: 0.6375\n",
      "Epoch 34/100\n",
      "3/3 [==============================] - 0s 8ms/step - loss: 0.9405 - accuracy: 0.6219 - val_loss: 0.9203 - val_accuracy: 0.6375\n",
      "Epoch 35/100\n",
      "3/3 [==============================] - 0s 6ms/step - loss: 0.9668 - accuracy: 0.6187 - val_loss: 0.9214 - val_accuracy: 0.6375\n",
      "Epoch 36/100\n",
      "3/3 [==============================] - 0s 7ms/step - loss: 0.9424 - accuracy: 0.6187 - val_loss: 0.9222 - val_accuracy: 0.6375\n",
      "Epoch 37/100\n",
      "3/3 [==============================] - 0s 7ms/step - loss: 0.9247 - accuracy: 0.6187 - val_loss: 0.9225 - val_accuracy: 0.6375\n",
      "Epoch 38/100\n",
      "3/3 [==============================] - 0s 7ms/step - loss: 0.9536 - accuracy: 0.6156 - val_loss: 0.9206 - val_accuracy: 0.6375\n",
      "Epoch 39/100\n",
      "3/3 [==============================] - 0s 7ms/step - loss: 0.9396 - accuracy: 0.6187 - val_loss: 0.9177 - val_accuracy: 0.6375\n",
      "Epoch 40/100\n",
      "3/3 [==============================] - 0s 7ms/step - loss: 0.9320 - accuracy: 0.6187 - val_loss: 0.9160 - val_accuracy: 0.6375\n",
      "Epoch 41/100\n",
      "3/3 [==============================] - 0s 7ms/step - loss: 0.9528 - accuracy: 0.6187 - val_loss: 0.9146 - val_accuracy: 0.6375\n",
      "Epoch 42/100\n",
      "3/3 [==============================] - 0s 43ms/step - loss: 0.9319 - accuracy: 0.6187 - val_loss: 0.9142 - val_accuracy: 0.6375\n",
      "Epoch 43/100\n",
      "3/3 [==============================] - 0s 7ms/step - loss: 0.9512 - accuracy: 0.6187 - val_loss: 0.9138 - val_accuracy: 0.6375\n",
      "Epoch 44/100\n",
      "3/3 [==============================] - 0s 7ms/step - loss: 0.9408 - accuracy: 0.6187 - val_loss: 0.9134 - val_accuracy: 0.6375\n",
      "Epoch 45/100\n",
      "3/3 [==============================] - 0s 7ms/step - loss: 0.9483 - accuracy: 0.6187 - val_loss: 0.9133 - val_accuracy: 0.6375\n",
      "Epoch 46/100\n",
      "3/3 [==============================] - 0s 7ms/step - loss: 0.9468 - accuracy: 0.6187 - val_loss: 0.9133 - val_accuracy: 0.6375\n",
      "Epoch 47/100\n",
      "3/3 [==============================] - 0s 6ms/step - loss: 0.9464 - accuracy: 0.6187 - val_loss: 0.9132 - val_accuracy: 0.6375\n",
      "Epoch 48/100\n",
      "3/3 [==============================] - 0s 7ms/step - loss: 0.9396 - accuracy: 0.6187 - val_loss: 0.9130 - val_accuracy: 0.6375\n",
      "Epoch 49/100\n",
      "3/3 [==============================] - 0s 7ms/step - loss: 0.9508 - accuracy: 0.6187 - val_loss: 0.9129 - val_accuracy: 0.6375\n",
      "Epoch 50/100\n",
      "3/3 [==============================] - 0s 7ms/step - loss: 0.9465 - accuracy: 0.6187 - val_loss: 0.9125 - val_accuracy: 0.6375\n",
      "Epoch 51/100\n",
      "3/3 [==============================] - 0s 8ms/step - loss: 0.9517 - accuracy: 0.6125 - val_loss: 0.9129 - val_accuracy: 0.6375\n",
      "Epoch 52/100\n",
      "3/3 [==============================] - 0s 7ms/step - loss: 0.9443 - accuracy: 0.6187 - val_loss: 0.9134 - val_accuracy: 0.6375\n",
      "Epoch 53/100\n",
      "3/3 [==============================] - 0s 6ms/step - loss: 0.9343 - accuracy: 0.6219 - val_loss: 0.9150 - val_accuracy: 0.6375\n",
      "Epoch 54/100\n",
      "3/3 [==============================] - 0s 6ms/step - loss: 0.9242 - accuracy: 0.6187 - val_loss: 0.9160 - val_accuracy: 0.6375\n",
      "Epoch 55/100\n",
      "3/3 [==============================] - 0s 7ms/step - loss: 0.9322 - accuracy: 0.6156 - val_loss: 0.9165 - val_accuracy: 0.6375\n",
      "Epoch 56/100\n",
      "3/3 [==============================] - 0s 7ms/step - loss: 0.9368 - accuracy: 0.6187 - val_loss: 0.9169 - val_accuracy: 0.6375\n",
      "Epoch 57/100\n",
      "3/3 [==============================] - 0s 7ms/step - loss: 0.9357 - accuracy: 0.6187 - val_loss: 0.9180 - val_accuracy: 0.6375\n",
      "Epoch 58/100\n",
      "3/3 [==============================] - 0s 6ms/step - loss: 0.9286 - accuracy: 0.6187 - val_loss: 0.9185 - val_accuracy: 0.6375\n",
      "Epoch 59/100\n",
      "3/3 [==============================] - 0s 7ms/step - loss: 0.9474 - accuracy: 0.6187 - val_loss: 0.9184 - val_accuracy: 0.6375\n",
      "Epoch 60/100\n",
      "3/3 [==============================] - 0s 8ms/step - loss: 0.9261 - accuracy: 0.6187 - val_loss: 0.9189 - val_accuracy: 0.6375\n",
      "Epoch 61/100\n",
      "3/3 [==============================] - 0s 6ms/step - loss: 0.9426 - accuracy: 0.6187 - val_loss: 0.9204 - val_accuracy: 0.6375\n",
      "Epoch 62/100\n",
      "3/3 [==============================] - 0s 7ms/step - loss: 0.9481 - accuracy: 0.6187 - val_loss: 0.9226 - val_accuracy: 0.6375\n",
      "Epoch 63/100\n",
      "3/3 [==============================] - 0s 7ms/step - loss: 0.9350 - accuracy: 0.6187 - val_loss: 0.9240 - val_accuracy: 0.6375\n",
      "Epoch 64/100\n",
      "3/3 [==============================] - 0s 6ms/step - loss: 0.9353 - accuracy: 0.6187 - val_loss: 0.9238 - val_accuracy: 0.6375\n",
      "Epoch 65/100\n",
      "3/3 [==============================] - 0s 7ms/step - loss: 0.9257 - accuracy: 0.6187 - val_loss: 0.9235 - val_accuracy: 0.6375\n",
      "Epoch 66/100\n",
      "3/3 [==============================] - 0s 7ms/step - loss: 0.9198 - accuracy: 0.6187 - val_loss: 0.9234 - val_accuracy: 0.6375\n",
      "Epoch 67/100\n",
      "3/3 [==============================] - 0s 7ms/step - loss: 0.9315 - accuracy: 0.6187 - val_loss: 0.9249 - val_accuracy: 0.6375\n",
      "Epoch 68/100\n",
      "3/3 [==============================] - 0s 7ms/step - loss: 0.9370 - accuracy: 0.6187 - val_loss: 0.9271 - val_accuracy: 0.6375\n",
      "Epoch 69/100\n",
      "3/3 [==============================] - 0s 7ms/step - loss: 0.9252 - accuracy: 0.6062 - val_loss: 0.9279 - val_accuracy: 0.6375\n",
      "Epoch 70/100\n",
      "3/3 [==============================] - 0s 7ms/step - loss: 0.9273 - accuracy: 0.6187 - val_loss: 0.9292 - val_accuracy: 0.6375\n",
      "Epoch 71/100\n",
      "3/3 [==============================] - 0s 7ms/step - loss: 0.9269 - accuracy: 0.6187 - val_loss: 0.9310 - val_accuracy: 0.6375\n",
      "Epoch 72/100\n",
      "3/3 [==============================] - 0s 6ms/step - loss: 0.9432 - accuracy: 0.6187 - val_loss: 0.9317 - val_accuracy: 0.6375\n",
      "Epoch 73/100\n",
      "3/3 [==============================] - 0s 7ms/step - loss: 0.9284 - accuracy: 0.6187 - val_loss: 0.9329 - val_accuracy: 0.6375\n",
      "Epoch 74/100\n",
      "3/3 [==============================] - 0s 7ms/step - loss: 0.9150 - accuracy: 0.6187 - val_loss: 0.9338 - val_accuracy: 0.6375\n",
      "Epoch 75/100\n",
      "3/3 [==============================] - 0s 7ms/step - loss: 0.9388 - accuracy: 0.6187 - val_loss: 0.9337 - val_accuracy: 0.6375\n",
      "Epoch 76/100\n",
      "3/3 [==============================] - 0s 7ms/step - loss: 0.9526 - accuracy: 0.6156 - val_loss: 0.9323 - val_accuracy: 0.6375\n",
      "Epoch 77/100\n",
      "3/3 [==============================] - 0s 6ms/step - loss: 0.9252 - accuracy: 0.6187 - val_loss: 0.9301 - val_accuracy: 0.6375\n",
      "Epoch 78/100\n",
      "3/3 [==============================] - 0s 6ms/step - loss: 0.9194 - accuracy: 0.6187 - val_loss: 0.9276 - val_accuracy: 0.6375\n",
      "Epoch 79/100\n",
      "3/3 [==============================] - 0s 6ms/step - loss: 0.9358 - accuracy: 0.6187 - val_loss: 0.9252 - val_accuracy: 0.6375\n",
      "Epoch 80/100\n",
      "3/3 [==============================] - 0s 6ms/step - loss: 0.9295 - accuracy: 0.6187 - val_loss: 0.9237 - val_accuracy: 0.6375\n",
      "Epoch 81/100\n",
      "3/3 [==============================] - 0s 6ms/step - loss: 0.9279 - accuracy: 0.6187 - val_loss: 0.9213 - val_accuracy: 0.6375\n",
      "Epoch 82/100\n",
      "3/3 [==============================] - 0s 6ms/step - loss: 0.9363 - accuracy: 0.6187 - val_loss: 0.9193 - val_accuracy: 0.6375\n",
      "Epoch 83/100\n",
      "3/3 [==============================] - 0s 6ms/step - loss: 0.9255 - accuracy: 0.6187 - val_loss: 0.9175 - val_accuracy: 0.6375\n",
      "Epoch 84/100\n",
      "3/3 [==============================] - 0s 6ms/step - loss: 0.9371 - accuracy: 0.6187 - val_loss: 0.9160 - val_accuracy: 0.6375\n",
      "Epoch 85/100\n",
      "3/3 [==============================] - 0s 7ms/step - loss: 0.9256 - accuracy: 0.6187 - val_loss: 0.9142 - val_accuracy: 0.6375\n",
      "Epoch 86/100\n",
      "3/3 [==============================] - 0s 6ms/step - loss: 0.9301 - accuracy: 0.6187 - val_loss: 0.9130 - val_accuracy: 0.6375\n",
      "Epoch 87/100\n",
      "3/3 [==============================] - 0s 6ms/step - loss: 0.9395 - accuracy: 0.6187 - val_loss: 0.9122 - val_accuracy: 0.6375\n",
      "Epoch 88/100\n",
      "3/3 [==============================] - 0s 6ms/step - loss: 0.9352 - accuracy: 0.6187 - val_loss: 0.9129 - val_accuracy: 0.6375\n",
      "Epoch 89/100\n",
      "3/3 [==============================] - 0s 6ms/step - loss: 0.9392 - accuracy: 0.6187 - val_loss: 0.9136 - val_accuracy: 0.6375\n",
      "Epoch 90/100\n",
      "3/3 [==============================] - 0s 6ms/step - loss: 0.9308 - accuracy: 0.6187 - val_loss: 0.9146 - val_accuracy: 0.6375\n",
      "Epoch 91/100\n",
      "3/3 [==============================] - 0s 6ms/step - loss: 0.9236 - accuracy: 0.6187 - val_loss: 0.9162 - val_accuracy: 0.6375\n",
      "Epoch 92/100\n",
      "3/3 [==============================] - 0s 6ms/step - loss: 0.9219 - accuracy: 0.6187 - val_loss: 0.9161 - val_accuracy: 0.6375\n",
      "Epoch 93/100\n",
      "3/3 [==============================] - 0s 6ms/step - loss: 0.9279 - accuracy: 0.6187 - val_loss: 0.9167 - val_accuracy: 0.6375\n",
      "Epoch 94/100\n",
      "3/3 [==============================] - 0s 6ms/step - loss: 0.9455 - accuracy: 0.6187 - val_loss: 0.9178 - val_accuracy: 0.6375\n",
      "Epoch 95/100\n",
      "3/3 [==============================] - 0s 6ms/step - loss: 0.9456 - accuracy: 0.6187 - val_loss: 0.9187 - val_accuracy: 0.6375\n",
      "Epoch 96/100\n",
      "3/3 [==============================] - 0s 6ms/step - loss: 0.9498 - accuracy: 0.6187 - val_loss: 0.9193 - val_accuracy: 0.6375\n",
      "Epoch 97/100\n",
      "3/3 [==============================] - 0s 6ms/step - loss: 0.9236 - accuracy: 0.6187 - val_loss: 0.9195 - val_accuracy: 0.6375\n",
      "Epoch 98/100\n",
      "3/3 [==============================] - 0s 6ms/step - loss: 0.9477 - accuracy: 0.6187 - val_loss: 0.9208 - val_accuracy: 0.6375\n",
      "Epoch 99/100\n",
      "3/3 [==============================] - 0s 6ms/step - loss: 0.9349 - accuracy: 0.6187 - val_loss: 0.9214 - val_accuracy: 0.6375\n",
      "Epoch 100/100\n",
      "3/3 [==============================] - 0s 6ms/step - loss: 0.9264 - accuracy: 0.6187 - val_loss: 0.9212 - val_accuracy: 0.6375\n"
     ]
    }
   ],
   "source": [
    "start = time.time()\n",
    "history = model.fit(x_train, y_train, validation_data=(x_val,y_val) , batch_size=batch_size, epochs=epochs)\n",
    "end = time.time()"
   ]
  },
  {
   "cell_type": "code",
   "execution_count": 40,
   "metadata": {},
   "outputs": [
    {
     "name": "stdout",
     "output_type": "stream",
     "text": [
      "Training Accuracy (last epoch): 0.6187\n",
      "Validation Accuracy (last epoch): 0.6375\n"
     ]
    }
   ],
   "source": [
    "train_accuracy = history.history['accuracy']  # Training accuracy per epoch\n",
    "val_accuracy = history.history['val_accuracy']  # Validation accuracy per epoch\n",
    "\n",
    "print(f\"Training Accuracy (last epoch): {train_accuracy[-1]:.4f}\")\n",
    "print(f\"Validation Accuracy (last epoch): {val_accuracy[-1]:.4f}\")"
   ]
  },
  {
   "cell_type": "code",
   "execution_count": 44,
   "metadata": {},
   "outputs": [
    {
     "name": "stdout",
     "output_type": "stream",
     "text": [
      "4/4 [==============================] - 0s 855us/step\n",
      "4/4 [==============================] - 0s 641us/step\n"
     ]
    },
    {
     "data": {
      "text/plain": [
       "0.51"
      ]
     },
     "execution_count": 44,
     "metadata": {},
     "output_type": "execute_result"
    }
   ],
   "source": [
    "# predict probabilities for test set\n",
    "y_test_cat = keras.utils.to_categorical(y_test, 3)\n",
    "y_pred = model.predict(x_test)\n",
    "# predict crisp classes for test set\n",
    "#yhat_classes = model.predict_classes(x_test)\n",
    "y_pred_probabilities = model.predict(x_test)\n",
    "y_pred = np.argmax(y_pred_probabilities, axis=1)\n",
    "\n",
    "precision_scores = precision_score(y_test, y_pred, average=None)  # Get F1 for ALL classes\n",
    "precision_scores[0] \n"
   ]
  },
  {
   "cell_type": "code",
   "execution_count": 82,
   "metadata": {},
   "outputs": [],
   "source": [
    "tf.keras.backend.clear_session()"
   ]
  },
  {
   "cell_type": "code",
   "execution_count": 83,
   "metadata": {},
   "outputs": [],
   "source": [
    "# initializing the neural network\n",
    "model = Sequential()\n",
    "\n",
    "model.add(Dense(64,activation='relu',input_dim = x_train.shape[1]))\n",
    "model.add(Dense(32,activation='relu'))\n",
    "model.add(Dense(3, activation = 'softmax'))"
   ]
  },
  {
   "cell_type": "code",
   "execution_count": 84,
   "metadata": {},
   "outputs": [
    {
     "name": "stderr",
     "output_type": "stream",
     "text": [
      "WARNING:absl:At this time, the v2.11+ optimizer `tf.keras.optimizers.SGD` runs slowly on M1/M2 Macs, please use the legacy Keras optimizer instead, located at `tf.keras.optimizers.legacy.SGD`.\n"
     ]
    }
   ],
   "source": [
    "batch_size = 128\n",
    "epochs = 100\n",
    "sdg_optimizer = keras.optimizers.SGD(learning_rate=1e-3)\n",
    "model.compile(loss=\"categorical_crossentropy\", optimizer=sdg_optimizer, metrics=[\"accuracy\"])"
   ]
  },
  {
   "cell_type": "code",
   "execution_count": 85,
   "metadata": {},
   "outputs": [
    {
     "name": "stdout",
     "output_type": "stream",
     "text": [
      "Epoch 1/100\n",
      "3/3 [==============================] - 0s 32ms/step - loss: 332.0447 - accuracy: 0.3531 - val_loss: 30.6843 - val_accuracy: 0.6375\n",
      "Epoch 2/100\n",
      "3/3 [==============================] - 0s 6ms/step - loss: 30.0166 - accuracy: 0.4625 - val_loss: 31.4737 - val_accuracy: 0.1750\n",
      "Epoch 3/100\n",
      "3/3 [==============================] - 0s 5ms/step - loss: 33.4229 - accuracy: 0.3969 - val_loss: 8.1899 - val_accuracy: 0.1875\n",
      "Epoch 4/100\n",
      "3/3 [==============================] - 0s 6ms/step - loss: 8.4228 - accuracy: 0.4500 - val_loss: 6.1804 - val_accuracy: 0.1750\n",
      "Epoch 5/100\n",
      "3/3 [==============================] - 0s 5ms/step - loss: 3.6883 - accuracy: 0.2719 - val_loss: 1.0345 - val_accuracy: 0.6375\n",
      "Epoch 6/100\n",
      "3/3 [==============================] - 0s 5ms/step - loss: 1.0389 - accuracy: 0.6187 - val_loss: 1.0050 - val_accuracy: 0.6375\n",
      "Epoch 7/100\n",
      "3/3 [==============================] - 0s 5ms/step - loss: 1.0171 - accuracy: 0.6187 - val_loss: 0.9777 - val_accuracy: 0.6375\n",
      "Epoch 8/100\n",
      "3/3 [==============================] - 0s 6ms/step - loss: 1.0215 - accuracy: 0.6187 - val_loss: 0.9664 - val_accuracy: 0.6375\n",
      "Epoch 9/100\n",
      "3/3 [==============================] - 0s 6ms/step - loss: 0.9845 - accuracy: 0.6187 - val_loss: 0.9454 - val_accuracy: 0.6375\n",
      "Epoch 10/100\n",
      "3/3 [==============================] - 0s 6ms/step - loss: 0.9686 - accuracy: 0.6187 - val_loss: 0.9305 - val_accuracy: 0.6375\n",
      "Epoch 11/100\n",
      "3/3 [==============================] - 0s 6ms/step - loss: 0.9635 - accuracy: 0.6187 - val_loss: 0.9246 - val_accuracy: 0.6375\n",
      "Epoch 12/100\n",
      "3/3 [==============================] - 0s 6ms/step - loss: 0.9574 - accuracy: 0.6187 - val_loss: 0.9381 - val_accuracy: 0.6375\n",
      "Epoch 13/100\n",
      "3/3 [==============================] - 0s 6ms/step - loss: 0.9567 - accuracy: 0.6187 - val_loss: 0.9236 - val_accuracy: 0.6375\n",
      "Epoch 14/100\n",
      "3/3 [==============================] - 0s 6ms/step - loss: 0.9575 - accuracy: 0.6187 - val_loss: 0.9161 - val_accuracy: 0.6375\n",
      "Epoch 15/100\n",
      "3/3 [==============================] - 0s 6ms/step - loss: 0.9449 - accuracy: 0.6187 - val_loss: 0.9135 - val_accuracy: 0.6375\n",
      "Epoch 16/100\n",
      "3/3 [==============================] - 0s 6ms/step - loss: 0.9438 - accuracy: 0.6187 - val_loss: 0.9114 - val_accuracy: 0.6375\n",
      "Epoch 17/100\n",
      "3/3 [==============================] - 0s 6ms/step - loss: 0.9419 - accuracy: 0.6187 - val_loss: 0.9195 - val_accuracy: 0.6375\n",
      "Epoch 18/100\n",
      "3/3 [==============================] - 0s 6ms/step - loss: 0.9419 - accuracy: 0.6187 - val_loss: 0.9085 - val_accuracy: 0.6375\n",
      "Epoch 19/100\n",
      "3/3 [==============================] - 0s 6ms/step - loss: 0.9408 - accuracy: 0.6187 - val_loss: 0.9084 - val_accuracy: 0.6375\n",
      "Epoch 20/100\n",
      "3/3 [==============================] - 0s 6ms/step - loss: 0.9400 - accuracy: 0.6187 - val_loss: 0.9095 - val_accuracy: 0.6375\n",
      "Epoch 21/100\n",
      "3/3 [==============================] - 0s 6ms/step - loss: 0.9397 - accuracy: 0.6187 - val_loss: 0.9093 - val_accuracy: 0.6375\n",
      "Epoch 22/100\n",
      "3/3 [==============================] - 0s 6ms/step - loss: 0.9399 - accuracy: 0.6187 - val_loss: 0.9134 - val_accuracy: 0.6375\n",
      "Epoch 23/100\n",
      "3/3 [==============================] - 0s 23ms/step - loss: 0.9382 - accuracy: 0.6187 - val_loss: 0.9082 - val_accuracy: 0.6375\n",
      "Epoch 24/100\n",
      "3/3 [==============================] - 0s 31ms/step - loss: 0.9397 - accuracy: 0.6187 - val_loss: 0.9180 - val_accuracy: 0.6375\n",
      "Epoch 25/100\n",
      "3/3 [==============================] - 0s 10ms/step - loss: 0.9429 - accuracy: 0.6187 - val_loss: 0.9263 - val_accuracy: 0.6375\n",
      "Epoch 26/100\n",
      "3/3 [==============================] - 0s 9ms/step - loss: 0.9430 - accuracy: 0.6187 - val_loss: 0.9086 - val_accuracy: 0.6375\n",
      "Epoch 27/100\n",
      "3/3 [==============================] - 0s 6ms/step - loss: 0.9414 - accuracy: 0.6187 - val_loss: 0.9163 - val_accuracy: 0.6375\n",
      "Epoch 28/100\n",
      "3/3 [==============================] - 0s 6ms/step - loss: 0.9395 - accuracy: 0.6187 - val_loss: 0.9115 - val_accuracy: 0.6375\n",
      "Epoch 29/100\n",
      "3/3 [==============================] - 0s 5ms/step - loss: 0.9375 - accuracy: 0.6187 - val_loss: 0.9094 - val_accuracy: 0.6375\n",
      "Epoch 30/100\n",
      "3/3 [==============================] - 0s 5ms/step - loss: 0.9374 - accuracy: 0.6187 - val_loss: 0.9172 - val_accuracy: 0.6375\n",
      "Epoch 31/100\n",
      "3/3 [==============================] - 0s 6ms/step - loss: 0.9436 - accuracy: 0.6187 - val_loss: 0.9189 - val_accuracy: 0.6375\n",
      "Epoch 32/100\n",
      "3/3 [==============================] - 0s 5ms/step - loss: 0.9414 - accuracy: 0.6187 - val_loss: 0.9116 - val_accuracy: 0.6375\n",
      "Epoch 33/100\n",
      "3/3 [==============================] - 0s 5ms/step - loss: 0.9378 - accuracy: 0.6187 - val_loss: 0.9115 - val_accuracy: 0.6375\n",
      "Epoch 34/100\n",
      "3/3 [==============================] - 0s 5ms/step - loss: 0.9399 - accuracy: 0.6187 - val_loss: 0.9089 - val_accuracy: 0.6375\n",
      "Epoch 35/100\n",
      "3/3 [==============================] - 0s 5ms/step - loss: 0.9386 - accuracy: 0.6187 - val_loss: 0.9074 - val_accuracy: 0.6375\n",
      "Epoch 36/100\n",
      "3/3 [==============================] - 0s 5ms/step - loss: 0.9381 - accuracy: 0.6187 - val_loss: 0.9073 - val_accuracy: 0.6375\n",
      "Epoch 37/100\n",
      "3/3 [==============================] - 0s 5ms/step - loss: 0.9384 - accuracy: 0.6187 - val_loss: 0.9073 - val_accuracy: 0.6375\n",
      "Epoch 38/100\n",
      "3/3 [==============================] - 0s 5ms/step - loss: 0.9390 - accuracy: 0.6187 - val_loss: 0.9084 - val_accuracy: 0.6375\n",
      "Epoch 39/100\n",
      "3/3 [==============================] - 0s 5ms/step - loss: 0.9358 - accuracy: 0.6187 - val_loss: 0.9195 - val_accuracy: 0.6375\n",
      "Epoch 40/100\n",
      "3/3 [==============================] - 0s 6ms/step - loss: 0.9343 - accuracy: 0.6187 - val_loss: 0.9177 - val_accuracy: 0.6375\n",
      "Epoch 41/100\n",
      "3/3 [==============================] - 0s 5ms/step - loss: 0.9362 - accuracy: 0.6187 - val_loss: 0.9151 - val_accuracy: 0.6375\n",
      "Epoch 42/100\n",
      "3/3 [==============================] - 0s 5ms/step - loss: 0.9499 - accuracy: 0.6187 - val_loss: 0.9076 - val_accuracy: 0.6375\n",
      "Epoch 43/100\n",
      "3/3 [==============================] - 0s 5ms/step - loss: 0.9387 - accuracy: 0.6187 - val_loss: 0.9095 - val_accuracy: 0.6375\n",
      "Epoch 44/100\n",
      "3/3 [==============================] - 0s 5ms/step - loss: 0.9399 - accuracy: 0.6187 - val_loss: 0.9081 - val_accuracy: 0.6375\n",
      "Epoch 45/100\n",
      "3/3 [==============================] - 0s 6ms/step - loss: 0.9375 - accuracy: 0.6187 - val_loss: 0.9075 - val_accuracy: 0.6375\n",
      "Epoch 46/100\n",
      "3/3 [==============================] - 0s 5ms/step - loss: 0.9367 - accuracy: 0.6187 - val_loss: 0.9122 - val_accuracy: 0.6375\n",
      "Epoch 47/100\n",
      "3/3 [==============================] - 0s 5ms/step - loss: 0.9376 - accuracy: 0.6187 - val_loss: 0.9067 - val_accuracy: 0.6375\n",
      "Epoch 48/100\n",
      "3/3 [==============================] - 0s 5ms/step - loss: 0.9375 - accuracy: 0.6187 - val_loss: 0.9068 - val_accuracy: 0.6375\n",
      "Epoch 49/100\n",
      "3/3 [==============================] - 0s 6ms/step - loss: 0.9368 - accuracy: 0.6187 - val_loss: 0.9080 - val_accuracy: 0.6375\n",
      "Epoch 50/100\n",
      "3/3 [==============================] - 0s 6ms/step - loss: 0.9386 - accuracy: 0.6187 - val_loss: 0.9088 - val_accuracy: 0.6375\n",
      "Epoch 51/100\n",
      "3/3 [==============================] - 0s 6ms/step - loss: 0.9367 - accuracy: 0.6187 - val_loss: 0.9108 - val_accuracy: 0.6375\n",
      "Epoch 52/100\n",
      "3/3 [==============================] - 0s 6ms/step - loss: 0.9399 - accuracy: 0.6187 - val_loss: 0.9265 - val_accuracy: 0.6375\n",
      "Epoch 53/100\n",
      "3/3 [==============================] - 0s 6ms/step - loss: 0.9426 - accuracy: 0.6187 - val_loss: 0.9076 - val_accuracy: 0.6375\n",
      "Epoch 54/100\n",
      "3/3 [==============================] - 0s 6ms/step - loss: 0.9397 - accuracy: 0.6187 - val_loss: 0.9088 - val_accuracy: 0.6375\n",
      "Epoch 55/100\n",
      "3/3 [==============================] - 0s 6ms/step - loss: 0.9418 - accuracy: 0.6187 - val_loss: 0.9067 - val_accuracy: 0.6375\n",
      "Epoch 56/100\n",
      "3/3 [==============================] - 0s 6ms/step - loss: 0.9412 - accuracy: 0.6187 - val_loss: 0.9072 - val_accuracy: 0.6375\n",
      "Epoch 57/100\n",
      "3/3 [==============================] - 0s 6ms/step - loss: 0.9415 - accuracy: 0.6187 - val_loss: 0.9078 - val_accuracy: 0.6375\n",
      "Epoch 58/100\n",
      "3/3 [==============================] - 0s 6ms/step - loss: 0.9377 - accuracy: 0.6187 - val_loss: 0.9118 - val_accuracy: 0.6375\n",
      "Epoch 59/100\n",
      "3/3 [==============================] - 0s 6ms/step - loss: 0.9343 - accuracy: 0.6187 - val_loss: 0.9145 - val_accuracy: 0.6375\n",
      "Epoch 60/100\n",
      "3/3 [==============================] - 0s 6ms/step - loss: 0.9344 - accuracy: 0.6187 - val_loss: 0.9982 - val_accuracy: 0.6375\n",
      "Epoch 61/100\n",
      "3/3 [==============================] - 0s 7ms/step - loss: 0.9766 - accuracy: 0.6187 - val_loss: 0.9072 - val_accuracy: 0.6375\n",
      "Epoch 62/100\n",
      "3/3 [==============================] - 0s 7ms/step - loss: 0.9394 - accuracy: 0.6187 - val_loss: 0.9071 - val_accuracy: 0.6375\n",
      "Epoch 63/100\n",
      "3/3 [==============================] - 0s 7ms/step - loss: 0.9440 - accuracy: 0.6187 - val_loss: 0.9078 - val_accuracy: 0.6375\n",
      "Epoch 64/100\n",
      "3/3 [==============================] - 0s 6ms/step - loss: 0.9415 - accuracy: 0.6187 - val_loss: 0.9097 - val_accuracy: 0.6375\n",
      "Epoch 65/100\n",
      "3/3 [==============================] - 0s 6ms/step - loss: 0.9416 - accuracy: 0.6187 - val_loss: 0.9070 - val_accuracy: 0.6375\n",
      "Epoch 66/100\n",
      "3/3 [==============================] - 0s 7ms/step - loss: 0.9385 - accuracy: 0.6187 - val_loss: 0.9083 - val_accuracy: 0.6375\n",
      "Epoch 67/100\n",
      "3/3 [==============================] - 0s 6ms/step - loss: 0.9382 - accuracy: 0.6187 - val_loss: 0.9072 - val_accuracy: 0.6375\n",
      "Epoch 68/100\n",
      "3/3 [==============================] - 0s 6ms/step - loss: 0.9381 - accuracy: 0.6187 - val_loss: 0.9122 - val_accuracy: 0.6375\n",
      "Epoch 69/100\n",
      "3/3 [==============================] - 0s 6ms/step - loss: 0.9394 - accuracy: 0.6187 - val_loss: 0.9106 - val_accuracy: 0.6375\n",
      "Epoch 70/100\n",
      "3/3 [==============================] - 0s 6ms/step - loss: 0.9394 - accuracy: 0.6187 - val_loss: 0.9078 - val_accuracy: 0.6375\n",
      "Epoch 71/100\n",
      "3/3 [==============================] - 0s 6ms/step - loss: 0.9397 - accuracy: 0.6187 - val_loss: 0.9079 - val_accuracy: 0.6375\n",
      "Epoch 72/100\n",
      "3/3 [==============================] - 0s 6ms/step - loss: 0.9401 - accuracy: 0.6187 - val_loss: 0.9071 - val_accuracy: 0.6375\n",
      "Epoch 73/100\n",
      "3/3 [==============================] - 0s 6ms/step - loss: 0.9374 - accuracy: 0.6187 - val_loss: 0.9116 - val_accuracy: 0.6375\n",
      "Epoch 74/100\n",
      "3/3 [==============================] - 0s 6ms/step - loss: 0.9372 - accuracy: 0.6187 - val_loss: 0.9078 - val_accuracy: 0.6375\n",
      "Epoch 75/100\n",
      "3/3 [==============================] - 0s 6ms/step - loss: 0.9384 - accuracy: 0.6187 - val_loss: 0.9078 - val_accuracy: 0.6375\n",
      "Epoch 76/100\n",
      "3/3 [==============================] - 0s 6ms/step - loss: 0.9393 - accuracy: 0.6187 - val_loss: 0.9077 - val_accuracy: 0.6375\n",
      "Epoch 77/100\n",
      "3/3 [==============================] - 0s 6ms/step - loss: 0.9391 - accuracy: 0.6187 - val_loss: 0.9105 - val_accuracy: 0.6375\n",
      "Epoch 78/100\n",
      "3/3 [==============================] - 0s 6ms/step - loss: 0.9375 - accuracy: 0.6187 - val_loss: 0.9087 - val_accuracy: 0.6375\n",
      "Epoch 79/100\n",
      "3/3 [==============================] - 0s 6ms/step - loss: 0.9364 - accuracy: 0.6187 - val_loss: 0.9084 - val_accuracy: 0.6375\n",
      "Epoch 80/100\n",
      "3/3 [==============================] - 0s 6ms/step - loss: 0.9369 - accuracy: 0.6187 - val_loss: 0.9075 - val_accuracy: 0.6375\n",
      "Epoch 81/100\n",
      "3/3 [==============================] - 0s 6ms/step - loss: 0.9393 - accuracy: 0.6187 - val_loss: 0.9076 - val_accuracy: 0.6375\n",
      "Epoch 82/100\n",
      "3/3 [==============================] - 0s 6ms/step - loss: 0.9391 - accuracy: 0.6187 - val_loss: 0.9106 - val_accuracy: 0.6375\n",
      "Epoch 83/100\n",
      "3/3 [==============================] - 0s 6ms/step - loss: 0.9385 - accuracy: 0.6187 - val_loss: 0.9131 - val_accuracy: 0.6375\n",
      "Epoch 84/100\n",
      "3/3 [==============================] - 0s 6ms/step - loss: 0.9448 - accuracy: 0.6187 - val_loss: 0.9179 - val_accuracy: 0.6375\n",
      "Epoch 85/100\n",
      "3/3 [==============================] - 0s 6ms/step - loss: 0.9368 - accuracy: 0.6187 - val_loss: 0.9146 - val_accuracy: 0.6375\n",
      "Epoch 86/100\n",
      "3/3 [==============================] - 0s 6ms/step - loss: 0.9385 - accuracy: 0.6187 - val_loss: 0.9324 - val_accuracy: 0.6375\n",
      "Epoch 87/100\n",
      "3/3 [==============================] - 0s 6ms/step - loss: 0.9623 - accuracy: 0.6187 - val_loss: 0.9069 - val_accuracy: 0.6375\n",
      "Epoch 88/100\n",
      "3/3 [==============================] - 0s 6ms/step - loss: 0.9418 - accuracy: 0.6187 - val_loss: 0.9073 - val_accuracy: 0.6375\n",
      "Epoch 89/100\n",
      "3/3 [==============================] - 0s 6ms/step - loss: 0.9406 - accuracy: 0.6187 - val_loss: 0.9205 - val_accuracy: 0.6375\n",
      "Epoch 90/100\n",
      "3/3 [==============================] - 0s 6ms/step - loss: 0.9423 - accuracy: 0.6187 - val_loss: 0.9117 - val_accuracy: 0.6375\n",
      "Epoch 91/100\n",
      "3/3 [==============================] - 0s 6ms/step - loss: 0.9388 - accuracy: 0.6187 - val_loss: 0.9073 - val_accuracy: 0.6375\n",
      "Epoch 92/100\n",
      "3/3 [==============================] - 0s 6ms/step - loss: 0.9384 - accuracy: 0.6187 - val_loss: 0.9073 - val_accuracy: 0.6375\n",
      "Epoch 93/100\n",
      "3/3 [==============================] - 0s 6ms/step - loss: 0.9387 - accuracy: 0.6187 - val_loss: 0.9094 - val_accuracy: 0.6375\n",
      "Epoch 94/100\n",
      "3/3 [==============================] - 0s 6ms/step - loss: 0.9452 - accuracy: 0.6187 - val_loss: 0.9092 - val_accuracy: 0.6375\n",
      "Epoch 95/100\n",
      "3/3 [==============================] - 0s 6ms/step - loss: 0.9400 - accuracy: 0.6187 - val_loss: 0.9106 - val_accuracy: 0.6375\n",
      "Epoch 96/100\n",
      "3/3 [==============================] - 0s 6ms/step - loss: 0.9391 - accuracy: 0.6187 - val_loss: 0.9074 - val_accuracy: 0.6375\n",
      "Epoch 97/100\n",
      "3/3 [==============================] - 0s 6ms/step - loss: 0.9381 - accuracy: 0.6187 - val_loss: 0.9112 - val_accuracy: 0.6375\n",
      "Epoch 98/100\n",
      "3/3 [==============================] - 0s 6ms/step - loss: 0.9394 - accuracy: 0.6187 - val_loss: 0.9162 - val_accuracy: 0.6375\n",
      "Epoch 99/100\n",
      "3/3 [==============================] - 0s 6ms/step - loss: 0.9408 - accuracy: 0.6187 - val_loss: 0.9121 - val_accuracy: 0.6375\n",
      "Epoch 100/100\n",
      "3/3 [==============================] - 0s 6ms/step - loss: 0.9371 - accuracy: 0.6187 - val_loss: 0.9080 - val_accuracy: 0.6375\n"
     ]
    }
   ],
   "source": [
    "start = time.time()\n",
    "history = model.fit(x_train, y_train, validation_data=(x_val,y_val) , batch_size=batch_size, epochs=epochs)\n",
    "end = time.time()"
   ]
  },
  {
   "cell_type": "code",
   "execution_count": 87,
   "metadata": {},
   "outputs": [
    {
     "name": "stdout",
     "output_type": "stream",
     "text": [
      "4/4 [==============================] - 0s 1ms/step\n",
      "4/4 [==============================] - 0s 592us/step\n"
     ]
    },
    {
     "data": {
      "text/plain": [
       "array([[0.5632211 , 0.22543228, 0.2113466 ],\n",
       "       [0.623396  , 0.19615857, 0.18044552],\n",
       "       [0.6239757 , 0.19587423, 0.1801501 ],\n",
       "       [0.62922835, 0.19329593, 0.17747577],\n",
       "       [0.6206337 , 0.19751279, 0.18185353],\n",
       "       [0.63004583, 0.19289431, 0.17705986],\n",
       "       [0.62232906, 0.19668174, 0.1809892 ],\n",
       "       [0.6280796 , 0.19386007, 0.17806034],\n",
       "       [0.62423646, 0.19574627, 0.18001728],\n",
       "       [0.57092464, 0.2217117 , 0.2073636 ],\n",
       "       [0.6280796 , 0.19386007, 0.17806034],\n",
       "       [0.6247029 , 0.19551747, 0.17977971],\n",
       "       [0.5624061 , 0.22582544, 0.21176845],\n",
       "       [0.6214589 , 0.19710833, 0.18143277],\n",
       "       [0.62132   , 0.19717637, 0.18150358],\n",
       "       [0.5782459 , 0.2187049 , 0.20304926],\n",
       "       [0.6263946 , 0.19468732, 0.1789181 ],\n",
       "       [0.56706446, 0.22357707, 0.20935845],\n",
       "       [0.62081397, 0.19742443, 0.1817616 ],\n",
       "       [0.61918336, 0.19822343, 0.18259323],\n",
       "       [0.62922835, 0.19329593, 0.17747577],\n",
       "       [0.6210126 , 0.19732708, 0.18166037],\n",
       "       [0.5652484 , 0.22445396, 0.21029764],\n",
       "       [0.6206337 , 0.19751279, 0.18185353],\n",
       "       [0.5920718 , 0.2114571 , 0.19647114],\n",
       "       [0.62150466, 0.1970859 , 0.18140948],\n",
       "       [0.5701583 , 0.22208221, 0.20775948],\n",
       "       [0.63666517, 0.1896394 , 0.17369543],\n",
       "       [0.6174089 , 0.19909261, 0.18349864],\n",
       "       [0.62009776, 0.19777545, 0.18212683],\n",
       "       [0.63541967, 0.19025226, 0.17432804],\n",
       "       [0.56585556, 0.22416086, 0.20998363],\n",
       "       [0.6284099 , 0.19369785, 0.17789218],\n",
       "       [0.61853415, 0.19854149, 0.18292445],\n",
       "       [0.6210126 , 0.19732708, 0.18166037],\n",
       "       [0.62350273, 0.19610617, 0.18039107],\n",
       "       [0.6231527 , 0.19627786, 0.18056947],\n",
       "       [0.6205903 , 0.19753402, 0.18187563],\n",
       "       [0.6177704 , 0.19891554, 0.18331411],\n",
       "       [0.56792516, 0.22316131, 0.20891349],\n",
       "       [0.5726871 , 0.22085938, 0.20645353],\n",
       "       [0.56666905, 0.22376804, 0.20956293],\n",
       "       [0.6296214 , 0.19310282, 0.17727579],\n",
       "       [0.6210126 , 0.19732708, 0.18166037],\n",
       "       [0.6202508 , 0.1977004 , 0.18204874],\n",
       "       [0.63456196, 0.19067422, 0.17476384],\n",
       "       [0.6222398 , 0.19672547, 0.18103471],\n",
       "       [0.6166754 , 0.19945166, 0.18387295],\n",
       "       [0.5710175 , 0.22166681, 0.20731567],\n",
       "       [0.62232906, 0.19668174, 0.1809892 ],\n",
       "       [0.61644787, 0.19956304, 0.1839891 ],\n",
       "       [0.62759095, 0.1941    , 0.178309  ],\n",
       "       [0.6025833 , 0.23540059, 0.16201608],\n",
       "       [0.62595075, 0.19490515, 0.17914407],\n",
       "       [0.62150466, 0.1970859 , 0.18140948],\n",
       "       [0.6267713 , 0.19450247, 0.17872635],\n",
       "       [0.6288096 , 0.19350159, 0.17768879],\n",
       "       [0.61859787, 0.19851027, 0.18289194],\n",
       "       [0.6222337 , 0.19672851, 0.18103783],\n",
       "       [0.62018716, 0.19773161, 0.18208127],\n",
       "       [0.576164  , 0.21917665, 0.20465928],\n",
       "       [0.62479794, 0.19547088, 0.17973128],\n",
       "       [0.6251041 , 0.19532059, 0.17957526],\n",
       "       [0.6209234 , 0.19737081, 0.1817058 ],\n",
       "       [0.62018716, 0.19773161, 0.18208127],\n",
       "       [0.61727643, 0.19915736, 0.18356614],\n",
       "       [0.6222337 , 0.19672851, 0.18103783],\n",
       "       [0.6279849 , 0.19390662, 0.17810857],\n",
       "       [0.61580604, 0.19987722, 0.18431675],\n",
       "       [0.6218375 , 0.19692273, 0.1812398 ],\n",
       "       [0.56929857, 0.22249773, 0.20820367],\n",
       "       [0.6227252 , 0.1964875 , 0.18078732],\n",
       "       [0.61840737, 0.2290722 , 0.15252042],\n",
       "       [0.62479794, 0.19547088, 0.17973128],\n",
       "       [0.6243075 , 0.1957114 , 0.17998105],\n",
       "       [0.6259685 , 0.19489644, 0.17913507],\n",
       "       [0.6218375 , 0.19692273, 0.1812398 ],\n",
       "       [0.6247522 , 0.19549327, 0.17975451],\n",
       "       [0.5744504 , 0.22000623, 0.20554343],\n",
       "       [0.62348485, 0.19611494, 0.18040018],\n",
       "       [0.59337074, 0.2161172 , 0.19051206],\n",
       "       [0.6177065 , 0.1989468 , 0.18334675],\n",
       "       [0.6238806 , 0.19592081, 0.18019855],\n",
       "       [0.5701583 , 0.22208221, 0.20775948],\n",
       "       [0.61853415, 0.19854149, 0.18292445],\n",
       "       [0.62058413, 0.19753708, 0.1818788 ],\n",
       "       [0.61853415, 0.19854149, 0.18292445],\n",
       "       [0.6263946 , 0.19468732, 0.1789181 ],\n",
       "       [0.61985373, 0.19789496, 0.18225127],\n",
       "       [0.5831106 , 0.21858127, 0.19830818],\n",
       "       [0.61985373, 0.19789496, 0.18225127],\n",
       "       [0.620205  , 0.19772288, 0.18207215],\n",
       "       [0.56447965, 0.22482501, 0.21069534],\n",
       "       [0.62150466, 0.1970859 , 0.18140948],\n",
       "       [0.5627544 , 0.2256574 , 0.21158814],\n",
       "       [0.6279849 , 0.19390662, 0.17810857],\n",
       "       [0.61701894, 0.1992835 , 0.18369763],\n",
       "       [0.57565325, 0.21942396, 0.20492283],\n",
       "       [0.6297159 , 0.19305636, 0.17722768],\n",
       "       [0.56671697, 0.22374491, 0.20953816]], dtype=float32)"
      ]
     },
     "execution_count": 87,
     "metadata": {},
     "output_type": "execute_result"
    }
   ],
   "source": [
    "y_pred = model.predict(x_test)\n",
    "# predict crisp classes for test set\n",
    "#yhat_classes = model.predict_classes(x_test)\n",
    "y_pred_probabilities = model.predict(x_test)\n",
    "y_pred_probabilities"
   ]
  },
  {
   "cell_type": "code",
   "execution_count": 91,
   "metadata": {},
   "outputs": [
    {
     "data": {
      "text/plain": [
       "[0,\n",
       " 0,\n",
       " 0,\n",
       " 0,\n",
       " 0,\n",
       " 0,\n",
       " 0,\n",
       " 0,\n",
       " 0,\n",
       " 0,\n",
       " 0,\n",
       " 0,\n",
       " 0,\n",
       " 0,\n",
       " 0,\n",
       " 0,\n",
       " 0,\n",
       " 0,\n",
       " 0,\n",
       " 0,\n",
       " 0,\n",
       " 0,\n",
       " 0,\n",
       " 0,\n",
       " 0,\n",
       " 0,\n",
       " 0,\n",
       " 0,\n",
       " 0,\n",
       " 0,\n",
       " 0,\n",
       " 0,\n",
       " 0,\n",
       " 0,\n",
       " 0,\n",
       " 0,\n",
       " 0,\n",
       " 0,\n",
       " 0,\n",
       " 0,\n",
       " 0,\n",
       " 0,\n",
       " 0,\n",
       " 0,\n",
       " 0,\n",
       " 0,\n",
       " 0,\n",
       " 0,\n",
       " 0,\n",
       " 0,\n",
       " 0,\n",
       " 0,\n",
       " 0,\n",
       " 0,\n",
       " 0,\n",
       " 0,\n",
       " 0,\n",
       " 0,\n",
       " 0,\n",
       " 0,\n",
       " 0,\n",
       " 0,\n",
       " 0,\n",
       " 0,\n",
       " 0,\n",
       " 0,\n",
       " 0,\n",
       " 0,\n",
       " 0,\n",
       " 0,\n",
       " 0,\n",
       " 0,\n",
       " 0,\n",
       " 0,\n",
       " 0,\n",
       " 0,\n",
       " 0,\n",
       " 0,\n",
       " 0,\n",
       " 0,\n",
       " 0,\n",
       " 0,\n",
       " 0,\n",
       " 0,\n",
       " 0,\n",
       " 0,\n",
       " 0,\n",
       " 0,\n",
       " 0,\n",
       " 0,\n",
       " 0,\n",
       " 0,\n",
       " 0,\n",
       " 0,\n",
       " 0,\n",
       " 0,\n",
       " 0,\n",
       " 0,\n",
       " 0,\n",
       " 0]"
      ]
     },
     "execution_count": 91,
     "metadata": {},
     "output_type": "execute_result"
    }
   ],
   "source": [
    "y_pred_final_2=[]\n",
    "for i in y_pred:\n",
    " y_pred_final_2.append(np.argmax(i))\n",
    "y_pred_final_2"
   ]
  },
  {
   "cell_type": "code",
   "execution_count": 90,
   "metadata": {},
   "outputs": [
    {
     "name": "stdout",
     "output_type": "stream",
     "text": [
      "              precision    recall  f1-score   support\n",
      "\n",
      "           0       0.51      1.00      0.68        51\n",
      "           1       0.00      0.00      0.00        23\n",
      "           2       0.00      0.00      0.00        26\n",
      "\n",
      "    accuracy                           0.51       100\n",
      "   macro avg       0.17      0.33      0.23       100\n",
      "weighted avg       0.26      0.51      0.34       100\n",
      "\n"
     ]
    }
   ],
   "source": [
    "from sklearn.metrics import classification_report\n",
    "print(classification_report(y_test,y_pred_final_2))"
   ]
  },
  {
   "cell_type": "code",
   "execution_count": null,
   "metadata": {},
   "outputs": [],
   "source": []
  }
 ],
 "metadata": {
  "accelerator": "GPU",
  "colab": {
   "collapsed_sections": [
    "W_Ho8VGKDu3S",
    "9d5QE-n57qf9",
    "xxhpZv9y-qTw",
    "_ruS1OQwB_fX",
    "qlzqMR1K-qTz",
    "KQi5ygTC-qT1",
    "wBplxfQ5L2VQ",
    "5TcqcxbK-qT3",
    "xNr4bWoM-qT5",
    "2_2JAlQoAYGv",
    "kUJ_B5KxhU3D",
    "9nu28gwqexqz",
    "HdlR3wVEMyfW",
    "s7MRxT3t7qga",
    "k3uJz1M5Ftfs",
    "qL4SMFui7qge",
    "NE2JV7LD7qgf",
    "mqV9hRi9MoKW",
    "VKRHs0BHFMz6",
    "ONKpeUbX7qgg",
    "LUrktk3s7qgP",
    "BUM8wCaH7qgh",
    "mJM22vsN7qgQ",
    "DJRpa_ITr_hP",
    "KfNstwe1iXll",
    "Rrj0G84NkC02",
    "eU_yWERC7qgQ",
    "AdJrTn9P7WkF",
    "ikcCDMEc-wzw",
    "cA5l4TVkj15W",
    "gR-rFzZIPN-o",
    "fEydOFEMhh84",
    "i-APFNHKiXsi",
    "FpHMzrg2L_MU",
    "F_WtTUilipXj",
    "l2qk2QLoj8sJ",
    "mTxi2rzOkE5j",
    "Eyyes8dpkQUr",
    "gv4MGa9-16LM",
    "gwBcwQmT2Ngg",
    "T2GolnQVHC4-",
    "D2eFxAmjC-PS",
    "tdDYbUXH7qga",
    "lLXVWxH47qgc",
    "GPKdwqGw7qgc",
    "PHqiu-HX7qgd",
    "-_NuZlBm7qgd",
    "ipUkvSwz7qgd",
    "sG7mxmsh7qge",
    "-ChY-dfR7qge",
    "OsIgJ04R7qge",
    "_iInaZLs7qgg",
    "nEDRlDTm7qgg",
    "OT2yi77m7qgQ",
    "QzE4NOLn7qgQ",
    "l5-C4x7Q7qgh",
    "y5Vqlehz7qgh",
    "SHL5A6fn7qgh",
    "_qCaiIBc7qgi",
    "MBHhnjDCljw-"
   ],
   "gpuType": "T4",
   "provenance": []
  },
  "kernelspec": {
   "display_name": "Python 3 (ipykernel)",
   "language": "python",
   "name": "python3"
  },
  "language_info": {
   "codemirror_mode": {
    "name": "ipython",
    "version": 3
   },
   "file_extension": ".py",
   "mimetype": "text/x-python",
   "name": "python",
   "nbconvert_exporter": "python",
   "pygments_lexer": "ipython3",
   "version": "3.10.12"
  }
 },
 "nbformat": 4,
 "nbformat_minor": 4
}
